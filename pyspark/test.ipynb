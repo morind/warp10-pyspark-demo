{
 "cells": [
  {
   "cell_type": "code",
   "execution_count": 1,
   "metadata": {
    "collapsed": true
   },
   "outputs": [],
   "source": [
    "import os\n",
    "#os.environ['PYSPARK_SUBMIT_ARGS'] = 'pyspark-shell'\n",
    "\n",
    "from pyspark import SparkContext\n",
    "\n",
    "log4j = SparkContext._gateway.jvm.org.apache.log4j\n",
    "log4j.LogManager.getRootLogger().setLevel(log4j.Level.INFO)\n",
    "\n",
    "func = SparkContext._gateway.jvm.io.warp10.pyspark.demo.PySparkDemo()\n",
    "params = {'spark.app.name': 'PySparkDemo', 'warp.timeunits': 'us', 'warpscript.file': 'test.mc2', 'inFile': 'hdfs://XXX/file.parquet/part-*', 'outFile': 'hdfs:///XXX/result.parquet'}\n",
    "func.testWarp10Format(params)"
   ]
  }
 ],
 "metadata": {
  "kernelspec": {
   "display_name": "Python 2",
   "language": "python",
   "name": "python2"
  },
  "language_info": {
   "codemirror_mode": {
    "name": "ipython",
    "version": 2
   },
   "file_extension": ".py",
   "mimetype": "text/x-python",
   "name": "python",
   "nbconvert_exporter": "python",
   "pygments_lexer": "ipython2",
   "version": "2.7.13"
  }
 },
 "nbformat": 4,
 "nbformat_minor": 1
}
